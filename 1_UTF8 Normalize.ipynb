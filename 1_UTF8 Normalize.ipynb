{
 "cells": [
  {
   "cell_type": "code",
   "execution_count": 1,
   "metadata": {
    "collapsed": true
   },
   "outputs": [],
   "source": [
    "import base64\n",
    "import re\n",
    "import sqlite3\n",
    "import operator\n",
    "from bs4 import BeautifulSoup, Comment\n",
    "from dateutil.parser import parse"
   ]
  },
  {
   "cell_type": "code",
   "execution_count": 2,
   "metadata": {
    "collapsed": false
   },
   "outputs": [],
   "source": [
    "raw_conn = sqlite3.connect('raw_data/mojim.db')\n",
    "raw_conn.row_factory = sqlite3.Row"
   ]
  },
  {
   "cell_type": "code",
   "execution_count": 3,
   "metadata": {
    "collapsed": true
   },
   "outputs": [],
   "source": [
    "parsed_conn = sqlite3.connect('parsed_lyrics.db')"
   ]
  },
  {
   "cell_type": "code",
   "execution_count": 4,
   "metadata": {
    "collapsed": false
   },
   "outputs": [
    {
     "data": {
      "text/plain": [
       "<sqlite3.Cursor at 0x10680a880>"
      ]
     },
     "execution_count": 4,
     "metadata": {},
     "output_type": "execute_result"
    }
   ],
   "source": [
    "parsed_conn.executescript('DROP TABLE IF EXISTS albums; DROP TABLE IF EXISTS songs;')"
   ]
  },
  {
   "cell_type": "code",
   "execution_count": 5,
   "metadata": {
    "collapsed": false
   },
   "outputs": [
    {
     "data": {
      "text/plain": [
       "<sqlite3.Cursor at 0x10680a7a0>"
      ]
     },
     "execution_count": 5,
     "metadata": {},
     "output_type": "execute_result"
    }
   ],
   "source": [
    "parsed_conn.executescript('''\\\n",
    "CREATE TABLE IF NOT EXISTS albums (\n",
    "    href             TEXT PRIMARY KEY,\n",
    "    title            TEXT,\n",
    "    singer           TEXT,\n",
    "    year             TEXT,\n",
    "    lang             TEXT\n",
    ");\n",
    "\n",
    "CREATE TABLE IF NOT EXISTS songs (\n",
    "    href             TEXT PRIMARY KEY,\n",
    "    album_href       TEXT,\n",
    "    album_title      TEXT,\n",
    "    album_lang       TEXT,\n",
    "    singer           TEXT,\n",
    "    year             INTEGER,\n",
    "    song             TEXT,\n",
    "    song_writer      TEXT,\n",
    "    lyrics_writer    TEXT,\n",
    "    lyrics           TEXT,\n",
    "    FOREIGN KEY(album_href) REFERENCES albums(href)\n",
    ");\n",
    "''')"
   ]
  },
  {
   "cell_type": "markdown",
   "metadata": {},
   "source": [
    "### Process Album\n",
    "\n",
    "```\n",
    "href TEXT PRIMARY KEY, name TEXT, title TEXT, meta TEXT, songs TEXT, lyrics_raw TEXT\n",
    "```\n",
    "\n",
    "in base64"
   ]
  },
  {
   "cell_type": "code",
   "execution_count": 6,
   "metadata": {
    "collapsed": true
   },
   "outputs": [],
   "source": [
    "def b64_to_utf8(col):\n",
    "    return base64.b64decode(col).decode(encoding='utf8')"
   ]
  },
  {
   "cell_type": "code",
   "execution_count": 7,
   "metadata": {
    "collapsed": true
   },
   "outputs": [],
   "source": [
    "def parse_album_info(soup):\n",
    "    album_re = re.compile(r'【\\s+(.*?)\\s+】')\n",
    "    album_info = album_re.findall(soup.find('h2').text)\n",
    "    if len(album_info) == 3:\n",
    "        title, lang, date = album_info\n",
    "        release_year = parse(date, yearfirst=True).year\n",
    "    elif len(album_info) == 2:\n",
    "        title, lang = album_info\n",
    "        release_year = None\n",
    "    return title, lang, release_year"
   ]
  },
  {
   "cell_type": "code",
   "execution_count": 8,
   "metadata": {
    "collapsed": false
   },
   "outputs": [],
   "source": [
    "def filter_lyrics(lyric_strings):\n",
    "    lyric_writer = None\n",
    "    song_writer = None\n",
    "    filtered_lyrics = []\n",
    "    for line in lyric_strings:\n",
    "        if line.startswith('['):\n",
    "            # dynamic lyrics\n",
    "            continue\n",
    "        elif line.startswith('更多更詳盡歌詞') or '魔鏡歌詞網' in line:\n",
    "            continue\n",
    "        elif '****' in line or '----' in line or 'CDATA' in line:\n",
    "            continue\n",
    "        elif '作詞' in line:\n",
    "            lyric_writer = line\n",
    "        elif '作曲' in line:\n",
    "            song_writer = line\n",
    "        elif '編曲' in line:\n",
    "            continue\n",
    "        else:\n",
    "            filtered_lyrics.append(line)\n",
    "    return song_writer, lyric_writer, '\\n'.join(filtered_lyrics)"
   ]
  },
  {
   "cell_type": "code",
   "execution_count": 9,
   "metadata": {
    "collapsed": false
   },
   "outputs": [],
   "source": [
    "def parse_lyric_content(dl):\n",
    "    elems = dl.findChildren(name=re.compile(r'(dd|dt)'))\n",
    "    for dt, dd in zip(*[iter(elems)]*2):\n",
    "        try:\n",
    "            song_name = dt.find(lambda tag: tag.name == 'a' and tag.has_attr('href')).text\n",
    "            song_href = dt.find('a', attrs={'href': re.compile('^/twy')}).attrs['href']\n",
    "        except Exception:\n",
    "            continue\n",
    "        try:\n",
    "            unwanted_tags = ['hr', 'ol', 'ul', 'b', 'script']\n",
    "            for tag in unwanted_tags:\n",
    "                for dom in dd.select(tag):\n",
    "                    dom.decompose()\n",
    "            song_writer, lyric_writer, lyrics = filter_lyrics(dd.strings)\n",
    "        except:\n",
    "            song_writer, lyric_writer, lyrics = None, None, None\n",
    "        yield song_href, song_name, song_writer, lyric_writer, lyrics\n",
    "    \n",
    "def parse_lyric_table(soup):\n",
    "    lyric_table = soup.find('table')\n",
    "    dls = lyric_table.find_all(lambda dom: dom.name == 'dl' and dom.previous_element == '專輯歌詞')\n",
    "    record_songs = set()\n",
    "    for dl in dls:\n",
    "        for song_info in parse_lyric_content(dl):\n",
    "            if song_info[0] in record_songs:\n",
    "                continue\n",
    "            record_songs.add(song_info[0])\n",
    "            yield song_info"
   ]
  },
  {
   "cell_type": "markdown",
   "metadata": {},
   "source": [
    "### Update for full database"
   ]
  },
  {
   "cell_type": "code",
   "execution_count": 10,
   "metadata": {
    "collapsed": false
   },
   "outputs": [
    {
     "name": "stderr",
     "output_type": "stream",
     "text": [
      ":0: FutureWarning: IPython widgets are experimental and may change in the future.\n"
     ]
    }
   ],
   "source": [
    "from IPython.html import widgets\n",
    "from IPython.display import display as ipydisplay"
   ]
  },
  {
   "cell_type": "code",
   "execution_count": 11,
   "metadata": {
    "collapsed": false
   },
   "outputs": [],
   "source": [
    "cur = raw_conn.execute(\n",
    "    'SELECT href, name, title, meta, songs, lyrics_raw '\n",
    "    'FROM mojim '\n",
    "    # 'WHERE name = \"QUFST04=\"'\n",
    ")"
   ]
  },
  {
   "cell_type": "code",
   "execution_count": 12,
   "metadata": {
    "collapsed": false
   },
   "outputs": [],
   "source": [
    "# row = next(cur)\n",
    "# lyrics_raw = b64_to_utf8(row['lyrics_raw'])\n",
    "# soup = BeautifulSoup(lyrics_raw, 'html.parser')\n",
    "# list(parse_lyric_table(soup))"
   ]
  },
  {
   "cell_type": "code",
   "execution_count": 13,
   "metadata": {
    "collapsed": false
   },
   "outputs": [],
   "source": [
    "# meta = BeautifulSoup(b64_to_utf8(row['meta']))\n",
    "# # remove producer company\n",
    "# [d.decompose() for d in meta.span.select('font')]\n",
    "# meta.span.text"
   ]
  },
  {
   "cell_type": "code",
   "execution_count": 14,
   "metadata": {
    "collapsed": false
   },
   "outputs": [
    {
     "name": "stdout",
     "output_type": "stream",
     "text": [
      "Sat May  2 00:34:28 CST 2015\r\n"
     ]
    }
   ],
   "source": [
    "!date"
   ]
  },
  {
   "cell_type": "code",
   "execution_count": null,
   "metadata": {
    "collapsed": false
   },
   "outputs": [],
   "source": [
    "w = widgets.IntProgress()\n",
    "w.max = tuple(raw_conn.execute('SELECT COUNT(*) FROM mojim').fetchone())[0]\n",
    "ipydisplay(w)\n",
    "\n",
    "for row in cur:\n",
    "    singer = b64_to_utf8(row['name'])\n",
    "    w.description = singer\n",
    "    w.value += 1\n",
    "    try:\n",
    "        lyrics_raw = b64_to_utf8(row['lyrics_raw'])\n",
    "        soup = BeautifulSoup(lyrics_raw, 'html.parser')\n",
    "        title, lang, year = parse_album_info(soup)\n",
    "        song_lists = list(parse_lyric_table(soup))\n",
    "    except Exception as e:\n",
    "        print('Processing %s album %s failed with %r' % (singer, row['href'], e))\n",
    "        continue\n",
    "    cur = parsed_conn.cursor()\n",
    "    cur.execute(\n",
    "        'INSERT OR IGNORE INTO albums '\n",
    "        '(href, title, singer, year, lang)'\n",
    "        'VALUES (?, ?, ?, ?, ?)',\n",
    "        (row['href'], title, singer, year, lang)\n",
    "    )\n",
    "    cur.executemany(\n",
    "        'INSERT OR IGNORE INTO songs ('\n",
    "        'href, album_href, album_title, album_lang, '\n",
    "        'singer, year, song, song_writer, lyrics_writer, '\n",
    "        'lyrics )'\n",
    "        'VALUES (?, ?, ?, ?, ?, ?, ?, ?, ? ,?)',\n",
    "        (\n",
    "            (song_href, row['href'], title, lang,\n",
    "             singer, year, song_name, song_writer, lyric_writer,\n",
    "             lyrics) \n",
    "            for song_href, song_name, song_writer, lyric_writer, lyrics in song_lists\n",
    "        )\n",
    "    )\n",
    "    cur.close()\n",
    "    # parsed_conn.commit()\n",
    "    # if w.value == 1000:\n",
    "    #     break"
   ]
  },
  {
   "cell_type": "code",
   "execution_count": null,
   "metadata": {
    "collapsed": true
   },
   "outputs": [],
   "source": [
    "!date"
   ]
  },
  {
   "cell_type": "code",
   "execution_count": null,
   "metadata": {
    "collapsed": true
   },
   "outputs": [],
   "source": []
  }
 ],
 "metadata": {
  "kernelspec": {
   "display_name": "Python 3",
   "language": "python",
   "name": "python3"
  },
  "language_info": {
   "codemirror_mode": {
    "name": "ipython",
    "version": 3
   },
   "file_extension": ".py",
   "mimetype": "text/x-python",
   "name": "python",
   "nbconvert_exporter": "python",
   "pygments_lexer": "ipython3",
   "version": "3.4.3"
  }
 },
 "nbformat": 4,
 "nbformat_minor": 0
}
