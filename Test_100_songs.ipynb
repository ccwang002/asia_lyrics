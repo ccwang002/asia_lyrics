{
 "cells": [
  {
   "cell_type": "code",
   "execution_count": 5,
   "metadata": {
    "collapsed": false
   },
   "outputs": [
    {
     "name": "stdout",
     "output_type": "stream",
     "text": [
      "[]\n",
      "[]\n",
      "[]\n",
      "[]\n",
      "[]\n",
      "[]\n",
      "[]\n",
      "[]\n",
      "[]\n",
      "[]\n"
     ]
    }
   ],
   "source": [
    "import sqlite3\n",
    "import subprocess\n",
    "parsed_conn = sqlite3.connect('parsed_lyrics.db')\n",
    "parsed_conn.row_factory = sqlite3.Row\n",
    "cur = parsed_conn.execute('SELECT * FROM songs')\n",
    "for i in range(10):\n",
    "    row = cur.fetchone()\n",
    "    with open('code/tmp_lyrics.txt', 'w', encoding='utf-8' ) as f:\n",
    "        f.write(row['lyrics'])\n",
    "    proc = subprocess.Popen('code/lyrics_full code/tmp_lyrics.txt code/ZhuYin-utf8.map', shell=True, stdout=subprocess.PIPE, stderr=subprocess.STDOUT)\n",
    "    proc.wait()\n",
    "    result = proc.stdout.readlines()\n",
    "    # result = [x.decode('utf8') for x in proc.stdout.readlines()]\n",
    "    print (result)"
   ]
  },
  {
   "cell_type": "code",
   "execution_count": 1,
   "metadata": {
    "collapsed": true
   },
   "outputs": [],
   "source": [
    "import sqlite3\n",
    "import subprocess\n",
    "parsed_conn = sqlite3.connect('parsed_lyrics.db')\n",
    "parsed_conn.row_factory = sqlite3.Row\n",
    "cur = parsed_conn.execute('SELECT * FROM songs')\n",
    "row = cur.fetchone()\n",
    "while row is not None:\n",
    "    with open('code/tmp_lyrics.txt', 'w', encoding='utf-8' ) as f:\n",
    "        f.write(str(row['year'])+'\\n')\n",
    "        f.write(row['lyrics'])\n",
    "    proc = subprocess.Popen('code/lyrics_full code/tmp_lyrics.txt code/ZhuYin-utf8.map code/ans.txt', shell=True, stdout=subprocess.PIPE, stderr=subprocess.STDOUT)\n",
    "    retval = proc.wait()\n",
    "    row = cur.fetchone()"
   ]
  },
  {
   "cell_type": "code",
   "execution_count": null,
   "metadata": {
    "collapsed": true
   },
   "outputs": [],
   "source": []
  }
 ],
 "metadata": {
  "kernelspec": {
   "display_name": "Python 3",
   "language": "python",
   "name": "python3"
  },
  "language_info": {
   "codemirror_mode": {
    "name": "ipython",
    "version": 3
   },
   "file_extension": ".py",
   "mimetype": "text/x-python",
   "name": "python",
   "nbconvert_exporter": "python",
   "pygments_lexer": "ipython3",
   "version": "3.4.3"
  }
 },
 "nbformat": 4,
 "nbformat_minor": 0
}
