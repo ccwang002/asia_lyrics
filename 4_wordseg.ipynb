{
 "cells": [
  {
   "cell_type": "code",
   "execution_count": 1,
   "metadata": {
    "collapsed": false
   },
   "outputs": [],
   "source": [
    "import operator\n",
    "import sqlite3\n",
    "import pandas as pd\n",
    "import sqlalchemy"
   ]
  },
  {
   "cell_type": "code",
   "execution_count": 2,
   "metadata": {
    "collapsed": false
   },
   "outputs": [
    {
     "name": "stderr",
     "output_type": "stream",
     "text": [
      ":0: FutureWarning: IPython widgets are experimental and may change in the future.\n"
     ]
    }
   ],
   "source": [
    "from IPython.display import display as ipydisplay\n",
    "from IPython.html import widgets"
   ]
  },
  {
   "cell_type": "code",
   "execution_count": 3,
   "metadata": {
    "collapsed": true
   },
   "outputs": [],
   "source": [
    "conn = sqlalchemy.create_engine('sqlite:///parsed_lyrics.db')\n",
    "df = pd.read_sql_table('songs', con=conn)"
   ]
  },
  {
   "cell_type": "code",
   "execution_count": 4,
   "metadata": {
    "collapsed": false
   },
   "outputs": [
    {
     "data": {
      "text/plain": [
       "Index(['href', 'album_href', 'album_title', 'album_lang', 'singer', 'year',\n",
       "       'song', 'song_writer', 'lyrics_writer', 'lyrics'],\n",
       "      dtype='object')"
      ]
     },
     "execution_count": 4,
     "metadata": {},
     "output_type": "execute_result"
    }
   ],
   "source": [
    "df.columns"
   ]
  },
  {
   "cell_type": "code",
   "execution_count": 4,
   "metadata": {
    "collapsed": false
   },
   "outputs": [
    {
     "data": {
      "text/plain": [
       "0    踩著沉重的腳步 一步一步向前行\\n為了生活 我要來去出外打拼\\n不甘愛我的七仔 故鄉疼我的親...\n",
       "1    春風仔：\\n窗外小雨下不停　代表愛妳的心情\\n我的心起起落落親像馬祖的海湧\\n天上閃爍那個星...\n",
       "2    我的加藤鷹 你在叨位\\n緊來教我安怎來玩那支飛凌機\\n野球拳アウト　セーフ　ヨヨイノヨイ\\n...\n",
       "3    我人帥 若說到煮呷我馬真厲害\\n所以大家人都叫我饒舌界的阿基師\\n不管是下水餃 還是要炸雞塊...\n",
       "4    這是我的選擇 這是我的路\\n不管是什麼原因我都不會停下腳步\\n雖然這條路走的比別人艱苦\\n感...\n",
       "Name: lyrics, dtype: object"
      ]
     },
     "execution_count": 4,
     "metadata": {},
     "output_type": "execute_result"
    }
   ],
   "source": [
    "df.lyrics.head()"
   ]
  },
  {
   "cell_type": "code",
   "execution_count": 5,
   "metadata": {
    "collapsed": false
   },
   "outputs": [],
   "source": [
    "import jieba"
   ]
  },
  {
   "cell_type": "code",
   "execution_count": 6,
   "metadata": {
    "collapsed": true
   },
   "outputs": [],
   "source": [
    "jieba.set_dictionary('/Volumes/raid-data/Pinkoi/tools/jieba/extra_dict/dict.txt.big')"
   ]
  },
  {
   "cell_type": "code",
   "execution_count": 7,
   "metadata": {
    "collapsed": false
   },
   "outputs": [
    {
     "name": "stderr",
     "output_type": "stream",
     "text": [
      "Building prefix dict from /Volumes/raid-data/Pinkoi/tools/jieba/extra_dict/dict.txt.big ...\n",
      "DEBUG:jieba:Building prefix dict from /Volumes/raid-data/Pinkoi/tools/jieba/extra_dict/dict.txt.big ...\n",
      "Loading model from cache /var/folders/kf/11qlzs4s0v3bvydrmcyrn8m00000gn/T/jieba.u2b501950e49ecf76338817b4b6a45396.cache\n",
      "DEBUG:jieba:Loading model from cache /var/folders/kf/11qlzs4s0v3bvydrmcyrn8m00000gn/T/jieba.u2b501950e49ecf76338817b4b6a45396.cache\n",
      "Loading model cost 1.2430040836334229 seconds.\n",
      "DEBUG:jieba:Loading model cost 1.2430040836334229 seconds.\n",
      "Prefix dict has been built succesfully.\n",
      "DEBUG:jieba:Prefix dict has been built succesfully.\n"
     ]
    }
   ],
   "source": [
    "jieba.enable_parallel(18)"
   ]
  },
  {
   "cell_type": "code",
   "execution_count": 8,
   "metadata": {
    "collapsed": false
   },
   "outputs": [],
   "source": [
    "def lyric_seg(lyric):\n",
    "    for line in lyric.splitlines():\n",
    "        yield ' \\u241D '.join(jieba.cut(line.strip()))"
   ]
  },
  {
   "cell_type": "code",
   "execution_count": 9,
   "metadata": {
    "collapsed": true
   },
   "outputs": [],
   "source": [
    "df['segged_lyrics'] = ''"
   ]
  },
  {
   "cell_type": "code",
   "execution_count": 10,
   "metadata": {
    "collapsed": false
   },
   "outputs": [
    {
     "ename": "KeyboardInterrupt",
     "evalue": "",
     "output_type": "error",
     "traceback": [
      "\u001b[0;31m---------------------------------------------------------------------------\u001b[0m",
      "\u001b[0;31mKeyboardInterrupt\u001b[0m                         Traceback (most recent call last)",
      "\u001b[0;32m<ipython-input-10-e383e8fa790b>\u001b[0m in \u001b[0;36m<module>\u001b[0;34m()\u001b[0m\n\u001b[1;32m      4\u001b[0m \u001b[0;34m\u001b[0m\u001b[0m\n\u001b[1;32m      5\u001b[0m \u001b[0;32mfor\u001b[0m \u001b[0mi\u001b[0m \u001b[0;32min\u001b[0m \u001b[0mrange\u001b[0m\u001b[0;34m(\u001b[0m\u001b[0mlen\u001b[0m\u001b[0;34m(\u001b[0m\u001b[0mdf\u001b[0m\u001b[0;34m)\u001b[0m\u001b[0;34m)\u001b[0m\u001b[0;34m:\u001b[0m\u001b[0;34m\u001b[0m\u001b[0m\n\u001b[0;32m----> 6\u001b[0;31m     \u001b[0msegged\u001b[0m \u001b[0;34m=\u001b[0m \u001b[0;34m'\\n'\u001b[0m\u001b[0;34m.\u001b[0m\u001b[0mjoin\u001b[0m\u001b[0;34m(\u001b[0m\u001b[0mlyric_seg\u001b[0m\u001b[0;34m(\u001b[0m\u001b[0mdf\u001b[0m\u001b[0;34m.\u001b[0m\u001b[0mlyrics\u001b[0m\u001b[0;34m[\u001b[0m\u001b[0mi\u001b[0m\u001b[0;34m]\u001b[0m\u001b[0;34m)\u001b[0m\u001b[0;34m)\u001b[0m\u001b[0;34m\u001b[0m\u001b[0m\n\u001b[0m\u001b[1;32m      7\u001b[0m     \u001b[0mdf\u001b[0m\u001b[0;34m.\u001b[0m\u001b[0mloc\u001b[0m\u001b[0;34m[\u001b[0m\u001b[0mi\u001b[0m\u001b[0;34m,\u001b[0m \u001b[0;34m'segged_lyrics'\u001b[0m\u001b[0;34m]\u001b[0m \u001b[0;34m=\u001b[0m \u001b[0msegged\u001b[0m\u001b[0;34m\u001b[0m\u001b[0m\n\u001b[1;32m      8\u001b[0m     \u001b[0mw\u001b[0m\u001b[0;34m.\u001b[0m\u001b[0mvalue\u001b[0m \u001b[0;34m+=\u001b[0m \u001b[0;36m1\u001b[0m\u001b[0;34m\u001b[0m\u001b[0m\n",
      "\u001b[0;32m<ipython-input-8-01583d84134b>\u001b[0m in \u001b[0;36mlyric_seg\u001b[0;34m(lyric)\u001b[0m\n\u001b[1;32m      1\u001b[0m \u001b[0;32mdef\u001b[0m \u001b[0mlyric_seg\u001b[0m\u001b[0;34m(\u001b[0m\u001b[0mlyric\u001b[0m\u001b[0;34m)\u001b[0m\u001b[0;34m:\u001b[0m\u001b[0;34m\u001b[0m\u001b[0m\n\u001b[1;32m      2\u001b[0m     \u001b[0;32mfor\u001b[0m \u001b[0mline\u001b[0m \u001b[0;32min\u001b[0m \u001b[0mlyric\u001b[0m\u001b[0;34m.\u001b[0m\u001b[0msplitlines\u001b[0m\u001b[0;34m(\u001b[0m\u001b[0;34m)\u001b[0m\u001b[0;34m:\u001b[0m\u001b[0;34m\u001b[0m\u001b[0m\n\u001b[0;32m----> 3\u001b[0;31m         \u001b[0;32myield\u001b[0m \u001b[0;34m' \\u241D '\u001b[0m\u001b[0;34m.\u001b[0m\u001b[0mjoin\u001b[0m\u001b[0;34m(\u001b[0m\u001b[0mjieba\u001b[0m\u001b[0;34m.\u001b[0m\u001b[0mcut\u001b[0m\u001b[0;34m(\u001b[0m\u001b[0mline\u001b[0m\u001b[0;34m.\u001b[0m\u001b[0mstrip\u001b[0m\u001b[0;34m(\u001b[0m\u001b[0;34m)\u001b[0m\u001b[0;34m)\u001b[0m\u001b[0;34m)\u001b[0m\u001b[0;34m\u001b[0m\u001b[0m\n\u001b[0m",
      "\u001b[0;32m/Users/liang/.pyenv/versions/miniconda3-3.8.3/envs/lyric/lib/python3.4/site-packages/jieba/__init__.py\u001b[0m in \u001b[0;36mpcut\u001b[0;34m(sentence, cut_all, HMM)\u001b[0m\n\u001b[1;32m    434\u001b[0m             \u001b[0mresult\u001b[0m \u001b[0;34m=\u001b[0m \u001b[0mpool\u001b[0m\u001b[0;34m.\u001b[0m\u001b[0mmap\u001b[0m\u001b[0;34m(\u001b[0m\u001b[0m__lcut_all\u001b[0m\u001b[0;34m,\u001b[0m \u001b[0mparts\u001b[0m\u001b[0;34m)\u001b[0m\u001b[0;34m\u001b[0m\u001b[0m\n\u001b[1;32m    435\u001b[0m         \u001b[0;32melif\u001b[0m \u001b[0mHMM\u001b[0m\u001b[0;34m:\u001b[0m\u001b[0;34m\u001b[0m\u001b[0m\n\u001b[0;32m--> 436\u001b[0;31m             \u001b[0mresult\u001b[0m \u001b[0;34m=\u001b[0m \u001b[0mpool\u001b[0m\u001b[0;34m.\u001b[0m\u001b[0mmap\u001b[0m\u001b[0;34m(\u001b[0m\u001b[0m__lcut\u001b[0m\u001b[0;34m,\u001b[0m \u001b[0mparts\u001b[0m\u001b[0;34m)\u001b[0m\u001b[0;34m\u001b[0m\u001b[0m\n\u001b[0m\u001b[1;32m    437\u001b[0m         \u001b[0;32melse\u001b[0m\u001b[0;34m:\u001b[0m\u001b[0;34m\u001b[0m\u001b[0m\n\u001b[1;32m    438\u001b[0m             \u001b[0mresult\u001b[0m \u001b[0;34m=\u001b[0m \u001b[0mpool\u001b[0m\u001b[0;34m.\u001b[0m\u001b[0mmap\u001b[0m\u001b[0;34m(\u001b[0m\u001b[0m__lcut_no_hmm\u001b[0m\u001b[0;34m,\u001b[0m \u001b[0mparts\u001b[0m\u001b[0;34m)\u001b[0m\u001b[0;34m\u001b[0m\u001b[0m\n",
      "\u001b[0;32m/Users/liang/.pyenv/versions/miniconda3-3.8.3/envs/lyric/lib/python3.4/multiprocessing/pool.py\u001b[0m in \u001b[0;36mmap\u001b[0;34m(self, func, iterable, chunksize)\u001b[0m\n\u001b[1;32m    258\u001b[0m         \u001b[0;32min\u001b[0m \u001b[0ma\u001b[0m \u001b[0mlist\u001b[0m \u001b[0mthat\u001b[0m \u001b[0;32mis\u001b[0m \u001b[0mreturned\u001b[0m\u001b[0;34m.\u001b[0m\u001b[0;34m\u001b[0m\u001b[0m\n\u001b[1;32m    259\u001b[0m         '''\n\u001b[0;32m--> 260\u001b[0;31m         \u001b[0;32mreturn\u001b[0m \u001b[0mself\u001b[0m\u001b[0;34m.\u001b[0m\u001b[0m_map_async\u001b[0m\u001b[0;34m(\u001b[0m\u001b[0mfunc\u001b[0m\u001b[0;34m,\u001b[0m \u001b[0miterable\u001b[0m\u001b[0;34m,\u001b[0m \u001b[0mmapstar\u001b[0m\u001b[0;34m,\u001b[0m \u001b[0mchunksize\u001b[0m\u001b[0;34m)\u001b[0m\u001b[0;34m.\u001b[0m\u001b[0mget\u001b[0m\u001b[0;34m(\u001b[0m\u001b[0;34m)\u001b[0m\u001b[0;34m\u001b[0m\u001b[0m\n\u001b[0m\u001b[1;32m    261\u001b[0m \u001b[0;34m\u001b[0m\u001b[0m\n\u001b[1;32m    262\u001b[0m     \u001b[0;32mdef\u001b[0m \u001b[0mstarmap\u001b[0m\u001b[0;34m(\u001b[0m\u001b[0mself\u001b[0m\u001b[0;34m,\u001b[0m \u001b[0mfunc\u001b[0m\u001b[0;34m,\u001b[0m \u001b[0miterable\u001b[0m\u001b[0;34m,\u001b[0m \u001b[0mchunksize\u001b[0m\u001b[0;34m=\u001b[0m\u001b[0;32mNone\u001b[0m\u001b[0;34m)\u001b[0m\u001b[0;34m:\u001b[0m\u001b[0;34m\u001b[0m\u001b[0m\n",
      "\u001b[0;32m/Users/liang/.pyenv/versions/miniconda3-3.8.3/envs/lyric/lib/python3.4/multiprocessing/pool.py\u001b[0m in \u001b[0;36mget\u001b[0;34m(self, timeout)\u001b[0m\n\u001b[1;32m    591\u001b[0m \u001b[0;34m\u001b[0m\u001b[0m\n\u001b[1;32m    592\u001b[0m     \u001b[0;32mdef\u001b[0m \u001b[0mget\u001b[0m\u001b[0;34m(\u001b[0m\u001b[0mself\u001b[0m\u001b[0;34m,\u001b[0m \u001b[0mtimeout\u001b[0m\u001b[0;34m=\u001b[0m\u001b[0;32mNone\u001b[0m\u001b[0;34m)\u001b[0m\u001b[0;34m:\u001b[0m\u001b[0;34m\u001b[0m\u001b[0m\n\u001b[0;32m--> 593\u001b[0;31m         \u001b[0mself\u001b[0m\u001b[0;34m.\u001b[0m\u001b[0mwait\u001b[0m\u001b[0;34m(\u001b[0m\u001b[0mtimeout\u001b[0m\u001b[0;34m)\u001b[0m\u001b[0;34m\u001b[0m\u001b[0m\n\u001b[0m\u001b[1;32m    594\u001b[0m         \u001b[0;32mif\u001b[0m \u001b[0;32mnot\u001b[0m \u001b[0mself\u001b[0m\u001b[0;34m.\u001b[0m\u001b[0mready\u001b[0m\u001b[0;34m(\u001b[0m\u001b[0;34m)\u001b[0m\u001b[0;34m:\u001b[0m\u001b[0;34m\u001b[0m\u001b[0m\n\u001b[1;32m    595\u001b[0m             \u001b[0;32mraise\u001b[0m \u001b[0mTimeoutError\u001b[0m\u001b[0;34m\u001b[0m\u001b[0m\n",
      "\u001b[0;32m/Users/liang/.pyenv/versions/miniconda3-3.8.3/envs/lyric/lib/python3.4/multiprocessing/pool.py\u001b[0m in \u001b[0;36mwait\u001b[0;34m(self, timeout)\u001b[0m\n\u001b[1;32m    588\u001b[0m \u001b[0;34m\u001b[0m\u001b[0m\n\u001b[1;32m    589\u001b[0m     \u001b[0;32mdef\u001b[0m \u001b[0mwait\u001b[0m\u001b[0;34m(\u001b[0m\u001b[0mself\u001b[0m\u001b[0;34m,\u001b[0m \u001b[0mtimeout\u001b[0m\u001b[0;34m=\u001b[0m\u001b[0;32mNone\u001b[0m\u001b[0;34m)\u001b[0m\u001b[0;34m:\u001b[0m\u001b[0;34m\u001b[0m\u001b[0m\n\u001b[0;32m--> 590\u001b[0;31m         \u001b[0mself\u001b[0m\u001b[0;34m.\u001b[0m\u001b[0m_event\u001b[0m\u001b[0;34m.\u001b[0m\u001b[0mwait\u001b[0m\u001b[0;34m(\u001b[0m\u001b[0mtimeout\u001b[0m\u001b[0;34m)\u001b[0m\u001b[0;34m\u001b[0m\u001b[0m\n\u001b[0m\u001b[1;32m    591\u001b[0m \u001b[0;34m\u001b[0m\u001b[0m\n\u001b[1;32m    592\u001b[0m     \u001b[0;32mdef\u001b[0m \u001b[0mget\u001b[0m\u001b[0;34m(\u001b[0m\u001b[0mself\u001b[0m\u001b[0;34m,\u001b[0m \u001b[0mtimeout\u001b[0m\u001b[0;34m=\u001b[0m\u001b[0;32mNone\u001b[0m\u001b[0;34m)\u001b[0m\u001b[0;34m:\u001b[0m\u001b[0;34m\u001b[0m\u001b[0m\n",
      "\u001b[0;32m/Users/liang/.pyenv/versions/miniconda3-3.8.3/envs/lyric/lib/python3.4/threading.py\u001b[0m in \u001b[0;36mwait\u001b[0;34m(self, timeout)\u001b[0m\n\u001b[1;32m    551\u001b[0m             \u001b[0msignaled\u001b[0m \u001b[0;34m=\u001b[0m \u001b[0mself\u001b[0m\u001b[0;34m.\u001b[0m\u001b[0m_flag\u001b[0m\u001b[0;34m\u001b[0m\u001b[0m\n\u001b[1;32m    552\u001b[0m             \u001b[0;32mif\u001b[0m \u001b[0;32mnot\u001b[0m \u001b[0msignaled\u001b[0m\u001b[0;34m:\u001b[0m\u001b[0;34m\u001b[0m\u001b[0m\n\u001b[0;32m--> 553\u001b[0;31m                 \u001b[0msignaled\u001b[0m \u001b[0;34m=\u001b[0m \u001b[0mself\u001b[0m\u001b[0;34m.\u001b[0m\u001b[0m_cond\u001b[0m\u001b[0;34m.\u001b[0m\u001b[0mwait\u001b[0m\u001b[0;34m(\u001b[0m\u001b[0mtimeout\u001b[0m\u001b[0;34m)\u001b[0m\u001b[0;34m\u001b[0m\u001b[0m\n\u001b[0m\u001b[1;32m    554\u001b[0m             \u001b[0;32mreturn\u001b[0m \u001b[0msignaled\u001b[0m\u001b[0;34m\u001b[0m\u001b[0m\n\u001b[1;32m    555\u001b[0m         \u001b[0;32mfinally\u001b[0m\u001b[0;34m:\u001b[0m\u001b[0;34m\u001b[0m\u001b[0m\n",
      "\u001b[0;32m/Users/liang/.pyenv/versions/miniconda3-3.8.3/envs/lyric/lib/python3.4/threading.py\u001b[0m in \u001b[0;36mwait\u001b[0;34m(self, timeout)\u001b[0m\n\u001b[1;32m    288\u001b[0m         \u001b[0;32mtry\u001b[0m\u001b[0;34m:\u001b[0m    \u001b[0;31m# restore state no matter what (e.g., KeyboardInterrupt)\u001b[0m\u001b[0;34m\u001b[0m\u001b[0m\n\u001b[1;32m    289\u001b[0m             \u001b[0;32mif\u001b[0m \u001b[0mtimeout\u001b[0m \u001b[0;32mis\u001b[0m \u001b[0;32mNone\u001b[0m\u001b[0;34m:\u001b[0m\u001b[0;34m\u001b[0m\u001b[0m\n\u001b[0;32m--> 290\u001b[0;31m                 \u001b[0mwaiter\u001b[0m\u001b[0;34m.\u001b[0m\u001b[0macquire\u001b[0m\u001b[0;34m(\u001b[0m\u001b[0;34m)\u001b[0m\u001b[0;34m\u001b[0m\u001b[0m\n\u001b[0m\u001b[1;32m    291\u001b[0m                 \u001b[0mgotit\u001b[0m \u001b[0;34m=\u001b[0m \u001b[0;32mTrue\u001b[0m\u001b[0;34m\u001b[0m\u001b[0m\n\u001b[1;32m    292\u001b[0m             \u001b[0;32melse\u001b[0m\u001b[0;34m:\u001b[0m\u001b[0;34m\u001b[0m\u001b[0m\n",
      "\u001b[0;31mKeyboardInterrupt\u001b[0m: "
     ]
    }
   ],
   "source": [
    "w = widgets.IntProgress()\n",
    "w.max = len(df)\n",
    "ipydisplay(w)\n",
    "\n",
    "for i in range(len(df)):\n",
    "    segged = '\\n'.join(lyric_seg(df.lyrics[i]))\n",
    "    df.loc[i, 'segged_lyrics'] = segged\n",
    "    w.value += 1"
   ]
  },
  {
   "cell_type": "code",
   "execution_count": 11,
   "metadata": {
    "collapsed": false
   },
   "outputs": [
    {
     "name": "stdout",
     "output_type": "stream",
     "text": [
      "踩 ␝ 著 ␝ 沉重 ␝ 的 ␝ 腳步 ␝   ␝ 一步 ␝ 一步 ␝ 向前 ␝ 行\n",
      "為 ␝ 了 ␝ 生活 ␝   ␝ 我 ␝ 要來 ␝ 去 ␝ 出外 ␝ 打拼\n",
      "不甘 ␝ 愛我 ␝ 的 ␝ 七仔 ␝   ␝ 故鄉 ␝ 疼 ␝ 我 ␝ 的 ␝ 親戚\n",
      "感謝 ␝ 爸爸 ␝ 的 ␝ 祝福 ␝   ␝ 媽媽 ␝ 滷 ␝ 的 ␝ 豬腳\n",
      "我 ␝ 跟 ␝ 自己 ␝ 說 ␝   ␝ 我 ␝ 一定 ␝ 要 ␝ 成功\n",
      "再會 ␝ 啦 ␝   ␝ 我 ␝ 的 ␝ 台 ␝ 中 ␝   ␝ 在 ␝ 會 ␝ 啦 ␝   ␝ 我 ␝ 的 ␝ 故鄉\n",
      "已經 ␝ 沒 ␝ 退路 ␝   ␝ 我 ␝ 只有 ␝ 向前 ␝ 衝\n",
      "我 ␝ 心愛 ␝ 的 ␝ 伊 ␝   ␝ 你 ␝ 就要 ␝ 體諒\n",
      "我 ␝ 來到 ␝ 陌生 ␝ 的 ␝ 地方\n",
      "找尋 ␝ 最初 ␝ 的 ␝ 夢想\n",
      "都 ␝ 是 ␝ 為 ␝ 了 ␝ 咱 ␝ 的 ␝ 夢\n",
      "做 ␝ 一個 ␝ 成功 ␝ 的 ␝ 少年人\n",
      "啦 ␝ 啦 ␝ 啦 ␝ 啦 ␝ 啦 ␝   ␝ 我 ␝ 的 ␝ 中港 ␝ 路要 ␝ 再會 ␝ 啦\n",
      "啦 ␝ 啦 ␝ 啦 ␝ 啦 ␝ 啦 ␝   ␝ 帶著 ␝ 成功 ␝ 回到 ␝ 我 ␝ 的 ␝ 家\n",
      "思念 ␝ 著 ␝ 故鄉 ␝   ␝ 燒酒 ␝ 一杯 ␝ 一杯 ␝ 飲吼 ␝ 乾\n",
      "只有 ␝ 孤單 ␝   ␝ 一路 ␝ 上來 ␝ 陪 ␝ 我 ␝ 作伴\n",
      "日頭 ␝ 落山 ␝   ␝ 不怕 ␝ 艱苦 ␝ 拼出 ␝ 咱 ␝ 的 ␝ 名\n",
      "月娘 ␝ 若光 ␝   ␝ 我唱出 ␝ 思念 ␝ 故鄉 ␝ 的 ␝ 歌\n",
      "出外 ␝ 走江湖 ␝   ␝ 注定 ␝ 就要 ␝ 吃苦\n",
      "不管 ␝ 是 ␝ 做 ␝ 黑手 ␝   ␝ 還是 ␝ 來 ␝ 釘 ␝ 版模\n",
      "我 ␝ 把 ␝ 所有 ␝ 的 ␝ 苦 ␝   ␝ 來當 ␝ 吃 ␝ 補\n",
      "我 ␝ 一定 ␝ 成功 ␝ 回來 ␝ 我 ␝ 的 ␝ 中港 ␝ 路\n",
      "我 ␝ 來到 ␝ 陌生 ␝ 的 ␝ 地方\n",
      "找尋 ␝ 最初 ␝ 的 ␝ 夢想\n",
      "都 ␝ 是 ␝ 為 ␝ 了 ␝ 咱 ␝ 的 ␝ 夢\n",
      "做 ␝ 一個 ␝ 成功 ␝ 的 ␝ 少年人\n",
      "是 ␝ 時候 ␝   ␝ 該要 ␝ 揮手 ␝   ␝ 不能 ␝ 在 ␝ 像 ␝ 過去 ␝ 這麼 ␝ 揮霍\n",
      "媽媽 ␝ 的 ␝ 私房錢 ␝ 他 ␝ 握手 ␝ 中 ␝   ␝ 就算 ␝ 在 ␝ 不 ␝ 捨 ␝   ␝ 只能 ␝ 讓 ␝ 手鬆\n",
      "現在 ␝ 幾點鐘 ␝   ␝ 背包 ␝ 身上 ␝ 背 ␝   ␝ 沉重 ␝ 的 ␝ 腳步 ␝ 行李 ␝ 地上 ␝ 推\n",
      "單薄 ␝ 的 ␝ 襯衫 ␝ 讓 ␝ 風 ␝ 在 ␝ 吹 ␝   ␝ 車票 ␝ 是 ␝ 候補 ␝   ␝ 但 ␝ 沒 ␝ 座位\n",
      "離鄉 ␝ 到 ␝ 陌生 ␝ 的 ␝ 地方 ␝   ␝ 當 ␝   ␝ 獨立 ␝ 的 ␝ 少年人\n",
      "幫 ␝ 自己 ␝ 來 ␝ 完成 ␝ 夢想 ␝   ␝ 心裡 ␝ 有 ␝ 著 ␝ 成功 ␝ 的 ␝ 信仰\n",
      "讓 ␝ 爸媽 ␝ 感到 ␝ 驕傲 ␝   ␝ 別 ␝ 在 ␝ 讓 ␝ 他們 ␝ 感到 ␝ 焦躁\n",
      "我 ␝ 聞到 ␝ 家鄉 ␝ 的 ␝ 味道 ␝   ␝ 回到 ␝ 熟悉 ␝ 的 ␝ 中港 ␝ 街道\n",
      "啦 ␝ 啦 ␝ 啦 ␝ 啦 ␝ 啦 ␝   ␝ 我 ␝ 的 ␝ 中港 ␝ 路要 ␝ 再會 ␝ 啦\n",
      "啦 ␝ 啦 ␝ 啦 ␝ 啦 ␝ 啦 ␝   ␝ 帶著 ␝ 成功 ␝ 回到 ␝ 我 ␝ 的 ␝ 家\n",
      "啦 ␝ 啦 ␝ 啦 ␝ 啦 ␝ 啦 ␝   ␝ 我 ␝ 的 ␝ 中港 ␝ 路要 ␝ 再會 ␝ 啦\n",
      "啦 ␝ 啦 ␝ 啦 ␝ 啦 ␝ 啦 ␝   ␝ 帶著 ␝ 成功 ␝ 回到 ␝ 我 ␝ 的 ␝ 家\n"
     ]
    }
   ],
   "source": [
    "print('\\n'.join(lyric_seg(df.lyrics[0])))"
   ]
  },
  {
   "cell_type": "code",
   "execution_count": 13,
   "metadata": {
    "collapsed": false
   },
   "outputs": [
    {
     "data": {
      "text/html": [
       "<div>\n",
       "<table border=\"1\" class=\"dataframe\">\n",
       "  <thead>\n",
       "    <tr style=\"text-align: right;\">\n",
       "      <th></th>\n",
       "      <th>href</th>\n",
       "      <th>album_href</th>\n",
       "      <th>album_title</th>\n",
       "      <th>album_lang</th>\n",
       "      <th>singer</th>\n",
       "      <th>year</th>\n",
       "      <th>song</th>\n",
       "      <th>song_writer</th>\n",
       "      <th>lyrics_writer</th>\n",
       "      <th>lyrics</th>\n",
       "      <th>segged_lyrics</th>\n",
       "    </tr>\n",
       "  </thead>\n",
       "  <tbody>\n",
       "    <tr>\n",
       "      <th>0</th>\n",
       "      <td>/twy121276x2x1.htm</td>\n",
       "      <td>http://mojim.com/tw121276x2.htm</td>\n",
       "      <td>再會中港路</td>\n",
       "      <td>台語</td>\n",
       "      <td>911</td>\n",
       "      <td>2013</td>\n",
       "      <td>再會中港路</td>\n",
       "      <td>None</td>\n",
       "      <td>None</td>\n",
       "      <td>踩著沉重的腳步 一步一步向前行\\n為了生活 我要來去出外打拼\\n不甘愛我的七仔 故鄉疼我的親...</td>\n",
       "      <td>踩 ␝ 著 ␝ 沉重 ␝ 的 ␝ 腳步 ␝   ␝ 一步 ␝ 一步 ␝ 向前 ␝ 行\\n為 ...</td>\n",
       "    </tr>\n",
       "    <tr>\n",
       "      <th>1</th>\n",
       "      <td>/twy121276x1x1.htm</td>\n",
       "      <td>http://mojim.com/tw121276x1.htm</td>\n",
       "      <td>妳不愛我</td>\n",
       "      <td>台語</td>\n",
       "      <td>911</td>\n",
       "      <td>2013</td>\n",
       "      <td>妳不愛我</td>\n",
       "      <td>作曲：玖壹壹</td>\n",
       "      <td>作詞：玖壹壹</td>\n",
       "      <td>春風仔：\\n窗外小雨下不停　代表愛妳的心情\\n我的心起起落落親像馬祖的海湧\\n天上閃爍那個星...</td>\n",
       "      <td>春風 ␝ 仔 ␝ ：\\n窗外 ␝ 小雨 ␝ 下 ␝ 不停 ␝ 　 ␝ 代表 ␝ 愛 ␝ 妳 ...</td>\n",
       "    </tr>\n",
       "    <tr>\n",
       "      <th>2</th>\n",
       "      <td>/twy121276x5x1.htm</td>\n",
       "      <td>http://mojim.com/tw121276x5.htm</td>\n",
       "      <td>宅男俱樂部</td>\n",
       "      <td>國語</td>\n",
       "      <td>911</td>\n",
       "      <td>2013</td>\n",
       "      <td>宅男俱樂部</td>\n",
       "      <td>作曲：陳洋蔥</td>\n",
       "      <td>作詞：洪春風</td>\n",
       "      <td>我的加藤鷹 你在叨位\\n緊來教我安怎來玩那支飛凌機\\n野球拳アウト　セーフ　ヨヨイノヨイ\\n...</td>\n",
       "      <td>我 ␝ 的 ␝ 加藤 ␝ 鷹 ␝   ␝ 你 ␝ 在 ␝ 叨位\\n緊來 ␝ 教 ␝ 我安 ␝...</td>\n",
       "    </tr>\n",
       "    <tr>\n",
       "      <th>3</th>\n",
       "      <td>/twy121276x6x1.htm</td>\n",
       "      <td>http://mojim.com/tw121276x6.htm</td>\n",
       "      <td>愛的總舖師</td>\n",
       "      <td>台語</td>\n",
       "      <td>911</td>\n",
       "      <td>2013</td>\n",
       "      <td>愛的總舖師</td>\n",
       "      <td>None</td>\n",
       "      <td>None</td>\n",
       "      <td>我人帥 若說到煮呷我馬真厲害\\n所以大家人都叫我饒舌界的阿基師\\n不管是下水餃 還是要炸雞塊...</td>\n",
       "      <td>我人帥 ␝   ␝ 若 ␝ 說 ␝ 到 ␝ 煮 ␝ 呷 ␝ 我 ␝ 馬 ␝ 真 ␝ 厲害\\n...</td>\n",
       "    </tr>\n",
       "    <tr>\n",
       "      <th>4</th>\n",
       "      <td>/twy121276x8x1.htm</td>\n",
       "      <td>http://mojim.com/tw121276x8.htm</td>\n",
       "      <td>好朋友</td>\n",
       "      <td>國語</td>\n",
       "      <td>911</td>\n",
       "      <td>2013</td>\n",
       "      <td>好朋友(ft.FreshKidz - F.J)</td>\n",
       "      <td>作曲：洋蔥</td>\n",
       "      <td>作詞：春風仔/洋蔥/F.J</td>\n",
       "      <td>這是我的選擇 這是我的路\\n不管是什麼原因我都不會停下腳步\\n雖然這條路走的比別人艱苦\\n感...</td>\n",
       "      <td>這是 ␝ 我 ␝ 的 ␝ 選擇 ␝   ␝ 這是 ␝ 我 ␝ 的 ␝ 路\\n不管 ␝ 是 ␝...</td>\n",
       "    </tr>\n",
       "  </tbody>\n",
       "</table>\n",
       "</div>"
      ],
      "text/plain": [
       "                 href                       album_href album_title album_lang  \\\n",
       "0  /twy121276x2x1.htm  http://mojim.com/tw121276x2.htm       再會中港路         台語   \n",
       "1  /twy121276x1x1.htm  http://mojim.com/tw121276x1.htm        妳不愛我         台語   \n",
       "2  /twy121276x5x1.htm  http://mojim.com/tw121276x5.htm       宅男俱樂部         國語   \n",
       "3  /twy121276x6x1.htm  http://mojim.com/tw121276x6.htm       愛的總舖師         台語   \n",
       "4  /twy121276x8x1.htm  http://mojim.com/tw121276x8.htm         好朋友         國語   \n",
       "\n",
       "  singer  year                     song song_writer  lyrics_writer  \\\n",
       "0    911  2013                    再會中港路        None           None   \n",
       "1    911  2013                     妳不愛我      作曲：玖壹壹         作詞：玖壹壹   \n",
       "2    911  2013                    宅男俱樂部      作曲：陳洋蔥         作詞：洪春風   \n",
       "3    911  2013                    愛的總舖師        None           None   \n",
       "4    911  2013  好朋友(ft.FreshKidz - F.J)       作曲：洋蔥  作詞：春風仔/洋蔥/F.J   \n",
       "\n",
       "                                              lyrics  \\\n",
       "0  踩著沉重的腳步 一步一步向前行\\n為了生活 我要來去出外打拼\\n不甘愛我的七仔 故鄉疼我的親...   \n",
       "1  春風仔：\\n窗外小雨下不停　代表愛妳的心情\\n我的心起起落落親像馬祖的海湧\\n天上閃爍那個星...   \n",
       "2  我的加藤鷹 你在叨位\\n緊來教我安怎來玩那支飛凌機\\n野球拳アウト　セーフ　ヨヨイノヨイ\\n...   \n",
       "3  我人帥 若說到煮呷我馬真厲害\\n所以大家人都叫我饒舌界的阿基師\\n不管是下水餃 還是要炸雞塊...   \n",
       "4  這是我的選擇 這是我的路\\n不管是什麼原因我都不會停下腳步\\n雖然這條路走的比別人艱苦\\n感...   \n",
       "\n",
       "                                       segged_lyrics  \n",
       "0  踩 ␝ 著 ␝ 沉重 ␝ 的 ␝ 腳步 ␝   ␝ 一步 ␝ 一步 ␝ 向前 ␝ 行\\n為 ...  \n",
       "1  春風 ␝ 仔 ␝ ：\\n窗外 ␝ 小雨 ␝ 下 ␝ 不停 ␝ 　 ␝ 代表 ␝ 愛 ␝ 妳 ...  \n",
       "2  我 ␝ 的 ␝ 加藤 ␝ 鷹 ␝   ␝ 你 ␝ 在 ␝ 叨位\\n緊來 ␝ 教 ␝ 我安 ␝...  \n",
       "3  我人帥 ␝   ␝ 若 ␝ 說 ␝ 到 ␝ 煮 ␝ 呷 ␝ 我 ␝ 馬 ␝ 真 ␝ 厲害\\n...  \n",
       "4  這是 ␝ 我 ␝ 的 ␝ 選擇 ␝   ␝ 這是 ␝ 我 ␝ 的 ␝ 路\\n不管 ␝ 是 ␝...  "
      ]
     },
     "execution_count": 13,
     "metadata": {},
     "output_type": "execute_result"
    }
   ],
   "source": [
    "df.head()"
   ]
  },
  {
   "cell_type": "code",
   "execution_count": null,
   "metadata": {
    "collapsed": true
   },
   "outputs": [],
   "source": []
  }
 ],
 "metadata": {
  "kernelspec": {
   "display_name": "Python 3",
   "language": "python",
   "name": "python3"
  },
  "language_info": {
   "codemirror_mode": {
    "name": "ipython",
    "version": 3
   },
   "file_extension": ".py",
   "mimetype": "text/x-python",
   "name": "python",
   "nbconvert_exporter": "python",
   "pygments_lexer": "ipython3",
   "version": "3.4.3"
  }
 },
 "nbformat": 4,
 "nbformat_minor": 0
}
