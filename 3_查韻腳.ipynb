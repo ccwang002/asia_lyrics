{
 "cells": [
  {
   "cell_type": "code",
   "execution_count": 1,
   "metadata": {
    "collapsed": true
   },
   "outputs": [],
   "source": [
    "import sqlite3"
   ]
  },
  {
   "cell_type": "code",
   "execution_count": 2,
   "metadata": {
    "collapsed": true
   },
   "outputs": [],
   "source": [
    "parsed_conn = sqlite3.connect('parsed_lyrics.db')\n",
    "parsed_conn.row_factory = sqlite3.Row"
   ]
  },
  {
   "cell_type": "code",
   "execution_count": 3,
   "metadata": {
    "collapsed": false
   },
   "outputs": [],
   "source": [
    "cur = parsed_conn.execute('SELECT * FROM songs')"
   ]
  },
  {
   "cell_type": "code",
   "execution_count": 4,
   "metadata": {
    "collapsed": true
   },
   "outputs": [],
   "source": [
    "row = cur.fetchone()"
   ]
  },
  {
   "cell_type": "code",
   "execution_count": 5,
   "metadata": {
    "collapsed": false
   },
   "outputs": [
    {
     "data": {
      "text/plain": [
       "{'album_href': 'http://mojim.com/tw121276x2.htm',\n",
       " 'album_lang': '台語',\n",
       " 'album_title': '再會中港路',\n",
       " 'href': '/twy121276x2x1.htm',\n",
       " 'lyrics': '踩著沉重的腳步 一步一步向前行\\n為了生活 我要來去出外打拼\\n不甘愛我的七仔 故鄉疼我的親戚\\n感謝爸爸的祝福 媽媽滷的豬腳\\n我跟自己說 我一定要成功\\n再會啦 我的台中 在會啦 我的故鄉\\n已經沒退路 我只有向前衝\\n我心愛的伊 你就要體諒\\n我來到陌生的地方\\n找尋最初的夢想\\n都是為了咱的夢\\n做一個成功的少年人\\n啦啦啦啦啦 我的中港路要再會啦\\n啦啦啦啦啦 帶著成功回到我的家\\n思念著故鄉 燒酒一杯一杯飲吼乾\\n只有孤單 一路上來陪我作伴\\n日頭落山 不怕艱苦拼出咱的名\\n月娘若光 我唱出思念故鄉的歌\\n出外走江湖 注定就要吃苦\\n不管是做黑手 還是來釘版模\\n我把所有的苦 來當吃補\\n我一定成功回來我的中港路\\n我來到陌生的地方\\n找尋最初的夢想\\n都是為了咱的夢\\n做一個成功的少年人\\n是時候 該要揮手 不能在像過去這麼揮霍\\n媽媽的私房錢他握手中 就算在不捨 只能讓手鬆\\n現在幾點鐘 背包身上背 沉重的腳步行李地上推\\n單薄的襯衫讓風在吹 車票是候補 但沒座位\\n離鄉到陌生的地方 當 獨立的少年人\\n幫自己來完成夢想 心裡有著成功的信仰\\n讓爸媽感到驕傲 別在讓他們感到焦躁\\n我聞到家鄉的味道 回到熟悉的中港街道\\n啦啦啦啦啦 我的中港路要再會啦\\n啦啦啦啦啦 帶著成功回到我的家\\n啦啦啦啦啦 我的中港路要再會啦\\n啦啦啦啦啦 帶著成功回到我的家',\n",
       " 'lyrics_writer': None,\n",
       " 'singer': '911',\n",
       " 'song': '再會中港路',\n",
       " 'song_writer': None,\n",
       " 'year': 2013}"
      ]
     },
     "execution_count": 5,
     "metadata": {},
     "output_type": "execute_result"
    }
   ],
   "source": [
    "dict(row)"
   ]
  },
  {
   "cell_type": "code",
   "execution_count": 6,
   "metadata": {
    "collapsed": false
   },
   "outputs": [],
   "source": [
    "with open('code/tmp_lyrics.txt', 'w') as f:\n",
    "    f.write(row['lyrics'])"
   ]
  },
  {
   "cell_type": "code",
   "execution_count": 8,
   "metadata": {
    "collapsed": false
   },
   "outputs": [
    {
     "name": "stderr",
     "output_type": "stream",
     "text": [
      "bash: line 1: 96472 Segmentation fault: 11  code/lyrics_full code/tmp_lyrics.txt\n"
     ]
    }
   ],
   "source": [
    "%%bash\n",
    "code/lyrics_full code/tmp_lyrics.txt"
   ]
  },
  {
   "cell_type": "code",
   "execution_count": null,
   "metadata": {
    "collapsed": true
   },
   "outputs": [],
   "source": []
  }
 ],
 "metadata": {
  "kernelspec": {
   "display_name": "Python 3",
   "language": "python",
   "name": "python3"
  },
  "language_info": {
   "codemirror_mode": {
    "name": "ipython",
    "version": 3
   },
   "file_extension": ".py",
   "mimetype": "text/x-python",
   "name": "python",
   "nbconvert_exporter": "python",
   "pygments_lexer": "ipython3",
   "version": "3.4.3"
  }
 },
 "nbformat": 4,
 "nbformat_minor": 0
}
