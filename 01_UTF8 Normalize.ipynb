{
 "cells": [
  {
   "cell_type": "code",
   "execution_count": 159,
   "metadata": {
    "collapsed": true
   },
   "outputs": [],
   "source": [
    "import base64\n",
    "import re\n",
    "import sqlite3\n",
    "import operator\n",
    "from bs4 import BeautifulSoup"
   ]
  },
  {
   "cell_type": "code",
   "execution_count": 2,
   "metadata": {
    "collapsed": true
   },
   "outputs": [],
   "source": [
    "raw_conn = sqlite3.connect('raw_data/mojim.db')\n",
    "raw_conn.row_factory = sqlite3.Row"
   ]
  },
  {
   "cell_type": "markdown",
   "metadata": {},
   "source": [
    "### Process Album\n",
    "\n",
    "```\n",
    "href TEXT PRIMARY KEY, name TEXT, title TEXT, meta TEXT, songs TEXT, lyrics_raw TEXT\n",
    "```\n",
    "\n",
    "in base64"
   ]
  },
  {
   "cell_type": "code",
   "execution_count": 89,
   "metadata": {
    "collapsed": false
   },
   "outputs": [],
   "source": [
    "cur = raw_conn.execute(\n",
    "    'SELECT href, name, title, meta, songs, lyrics_raw '\n",
    "    'FROM mojim '\n",
    "    'WHERE name = \"Uy5ILkU=\"'\n",
    ")"
   ]
  },
  {
   "cell_type": "code",
   "execution_count": 107,
   "metadata": {
    "collapsed": true
   },
   "outputs": [],
   "source": [
    "row = next(cur)"
   ]
  },
  {
   "cell_type": "code",
   "execution_count": 73,
   "metadata": {
    "collapsed": true
   },
   "outputs": [],
   "source": [
    "def b64_to_utf8(col):\n",
    "    return base64.b64decode(col).decode(encoding='utf8')"
   ]
  },
  {
   "cell_type": "code",
   "execution_count": 108,
   "metadata": {
    "collapsed": false
   },
   "outputs": [
    {
     "data": {
      "text/plain": [
       "'PLAY 歌詞 S.H.E( 女朋友 )'"
      ]
     },
     "execution_count": 108,
     "metadata": {},
     "output_type": "execute_result"
    }
   ],
   "source": [
    "b64_to_utf8(row['title'])"
   ]
  },
  {
   "cell_type": "code",
   "execution_count": 109,
   "metadata": {
    "collapsed": false
   },
   "outputs": [],
   "source": [
    "songs = b64_to_utf8(row['songs'])"
   ]
  },
  {
   "cell_type": "code",
   "execution_count": 110,
   "metadata": {
    "collapsed": true
   },
   "outputs": [],
   "source": [
    "soup = BeautifulSoup(songs, 'lxml')"
   ]
  },
  {
   "cell_type": "code",
   "execution_count": 116,
   "metadata": {
    "collapsed": false
   },
   "outputs": [
    {
     "data": {
      "text/plain": [
       "['中國話',\n",
       " '謝謝你的溫柔',\n",
       " '聽袁惟仁彈吉他',\n",
       " '五月天',\n",
       " '藉口',\n",
       " 'Boom',\n",
       " '再別康橋',\n",
       " '倫敦大橋垮下來',\n",
       " '說你愛我',\n",
       " '好心情',\n",
       " '老婆']"
      ]
     },
     "execution_count": 116,
     "metadata": {},
     "output_type": "execute_result"
    }
   ],
   "source": [
    "song_list = list(map(operator.attrgetter('text'), soup.select('a')))\n",
    "song_list"
   ]
  },
  {
   "cell_type": "code",
   "execution_count": 132,
   "metadata": {
    "collapsed": false
   },
   "outputs": [
    {
     "data": {
      "text/plain": [
       "11"
      ]
     },
     "execution_count": 132,
     "metadata": {},
     "output_type": "execute_result"
    }
   ],
   "source": [
    "len(song_list)"
   ]
  },
  {
   "cell_type": "code",
   "execution_count": 206,
   "metadata": {
    "collapsed": false
   },
   "outputs": [],
   "source": [
    "lyrics_raw = b64_to_utf8(row['lyrics_raw'])"
   ]
  },
  {
   "cell_type": "code",
   "execution_count": 207,
   "metadata": {
    "collapsed": false
   },
   "outputs": [],
   "source": [
    "soup = BeautifulSoup(lyrics_raw, 'lxml')"
   ]
  },
  {
   "cell_type": "code",
   "execution_count": 123,
   "metadata": {
    "collapsed": false
   },
   "outputs": [
    {
     "data": {
      "text/plain": [
       "<h2>【 PLAY 】【 國語 】【 2007-05 】</h2>"
      ]
     },
     "execution_count": 123,
     "metadata": {},
     "output_type": "execute_result"
    }
   ],
   "source": [
    "soup.find('h2')"
   ]
  },
  {
   "cell_type": "code",
   "execution_count": 169,
   "metadata": {
    "collapsed": false
   },
   "outputs": [
    {
     "data": {
      "text/plain": [
       "'http://mojim.com/tw101283x17.htm'"
      ]
     },
     "execution_count": 169,
     "metadata": {},
     "output_type": "execute_result"
    }
   ],
   "source": [
    "row['href']"
   ]
  },
  {
   "cell_type": "code",
   "execution_count": 280,
   "metadata": {
    "collapsed": false
   },
   "outputs": [],
   "source": [
    "def filter_lyrics(lyric_strings):\n",
    "    lyric_writer = None\n",
    "    song_writer = None\n",
    "    filtered_lyrics = []\n",
    "    for line in lyric_strings:\n",
    "        if line.startswith('['):\n",
    "            # dynamic lyrics\n",
    "            continue\n",
    "        elif line.startswith('更多更詳盡歌詞') or '魔鏡歌詞網' in line:\n",
    "            continue\n",
    "        elif '****' in line or '----' in line or 'CDATA' in line:\n",
    "            continue\n",
    "        elif '作詞' in line:\n",
    "            lyric_writer = line\n",
    "        elif '作曲' in line:\n",
    "            song_writer = line\n",
    "        else:\n",
    "            filtered_lyrics.append(line)\n",
    "    return song_writer, lyric_writer, '\\n'.join(filtered_lyrics)"
   ]
  },
  {
   "cell_type": "code",
   "execution_count": 281,
   "metadata": {
    "collapsed": false
   },
   "outputs": [],
   "source": [
    "def parse_lyric_table(soup):\n",
    "    lyric_table = soup.find('table')\n",
    "    elems = lyric_table.select('dl')[-1].findChildren(name=re.compile(r'(dd|dt)'))\n",
    "    for dt, dd in zip(*[iter(elems)]*2):\n",
    "        try:\n",
    "            song_name = dt.find(lambda tag: tag.name == 'a' and tag.has_attr('href')).text\n",
    "        except Exception:\n",
    "            song_name = None\n",
    "        try:\n",
    "            song_writer, lyric_writer, lyrics = filter_lyrics(dd.strings)\n",
    "        except:\n",
    "            song_writer, lyric_writer, lyrics = None, None, None\n",
    "        yield song_name, song_writer, lyric_writer, lyrics"
   ]
  },
  {
   "cell_type": "code",
   "execution_count": 282,
   "metadata": {
    "collapsed": false
   },
   "outputs": [
    {
     "data": {
      "text/plain": [
       "[('中國話',\n",
       "  '作曲：鄭楠',\n",
       "  '作詞：鄭楠 / 施人誠',\n",
       "  '\\u3000扁擔寬\\u3000板凳長\\u3000扁擔\\u3000想綁在板凳上\\n\\u3000扁擔寬\\u3000板凳長\\u3000扁擔\\u3000想綁在板凳上\\n\\u3000倫敦瑪莉蓮\\u3000買了\\u3000旗袍送\\u3000媽媽\\n\\u3000莫斯科的夫司基\\u3000愛上牛肉麵疙瘩\\n\\u3000各種顏色的皮膚\\u3000各種顏色的頭髮\\n\\u3000嘴裡唸的\\u3000說的\\u3000開始流行中國話\\n\\u3000多少年我們苦練\\u3000英文發音和文法\\n\\u3000這幾年\\u3000換他們\\u3000捲著舌頭學\\n\\u3000平上去入的變化\\u3000平平仄仄平平仄\\n\\u3000好聰明的中國人\\u3000好優美的中國話\\n\\u3000扁擔寬\\u3000板凳長\\u3000扁擔\\u3000想綁在板凳上\\n\\u3000板凳\\u3000不讓\\u3000扁擔\\u3000綁在板凳上\\n\\u3000扁擔\\u3000偏要綁在板凳上\\n\\u3000板凳\\u3000偏偏\\u3000不讓\\u3000扁擔\\u3000綁在那板凳上\\n\\u3000到底扁擔寬\\u3000還是板凳長\\n\\u3000哥哥\\u3000弟弟\\u3000坡前坐\\n\\u3000坡上\\u3000臥著一隻鵝\\u3000坡下\\u3000流著一條河\\n\\u3000哥哥說\\u3000寬寬的河\\u3000弟弟說\\u3000白白的鵝\\n\\u3000鵝要過河\\u3000河要渡鵝\\n\\u3000不知是那鵝過河\\u3000還是河渡鵝\\n＃全世界\\u3000都在學\\u3000中國話\\n\\u3000孔夫子的話\\u3000越來越國際化\\n\\u3000全世界\\u3000都在講\\u3000中國話\\n\\u3000我們說的話\\u3000讓世界都認真聽話＃\\n\\u3000紐約蘇珊娜\\u3000開了間禪風Lounge Bar\\n\\u3000柏林來的沃夫岡\\u3000拿胡琴配著電吉他\\n\\u3000各種顏色的皮膚\\u3000各種顏色的頭髮\\n\\u3000嘴裡唸的\\u3000說的\\u3000開始流行中國話\\n\\u3000多少年我們苦練\\u3000英文發音和文法\\n\\u3000這幾年\\u3000換他們\\u3000捲著舌頭學\\n\\u3000平上去入的變化\\u3000仄仄平平仄仄平\\n\\u3000好聰明的中國人\\u3000好優美的中國話\\n\\u3000有個小孩叫小杜\\u3000上街打醋又買布\\n\\u3000買了布\\u3000打了醋\\u3000回頭看見鷹抓兔\\n\\u3000放下布\\u3000擱下醋\\u3000上前去追鷹和兔\\n\\u3000飛了鷹\\u3000跑了兔\\u3000灑了醋\\u3000濕了布\\n\\u3000嘴說腿\\u3000腿說嘴\\u3000嘴說腿\\u3000愛跑腿\\n\\u3000腿說嘴\\u3000愛賣嘴\\n\\u3000光動嘴\\u3000不動腿\\u3000光動腿\\u3000不動嘴\\n\\u3000不如不長腿和嘴\\n\\u3000到底是\\u3000那嘴說腿\\u3000還是腿說嘴\\n\\u3000Repeat\\u3000＃,＃,＃\\nHebe：扁擔寬 板凳長\\n扁擔想綁在板凳上\\nElla+Selina：扁擔寬 板凳長\\n扁擔想綁在板凳上\\nElla：倫敦瑪莉蓮 買了件旗袍送媽媽\\n莫斯科的夫司基 愛上牛肉麵疙瘩\\nHebe+Selina：各種顏色的皮膚 各種顏色的頭髮\\nElla：嘴裡唸的說的開始流行中國話 (Hebe+Selina：中國話)\\nElla：多少年我們苦練英文發音和文法 (Hebe+Selina：Yeah)\\n這幾年換他們捲著舌頭學平上去入的變化\\nHebe+Selina：平平仄仄平平仄\\nElla：好聰明的中國人 好優美的中國話\\nSelina+Hebe：扁擔寬 板凳長\\n扁擔想綁在板凳上\\n板凳不讓扁擔綁在板凳上\\n扁擔偏要綁在板凳上\\n板凳偏偏不讓扁擔綁在那板凳上\\n到底扁擔寬還是板凳長\\nSelina+Hebe：哥哥弟弟坡前坐\\n坡上臥著一隻鵝\\n坡下流著一條河\\n哥哥說 寬寬的河\\n弟弟說 白白的鵝\\n鵝要過河 河要渡鵝\\n不知是那鵝過河\\n還是河渡鵝\\nS.H.E：全世界都在學中國話\\n孔夫子的話 越來越國際化\\n全世界都在講中國話\\n我們說的話 讓世界都認真聽話\\nElla：紐約蘇珊娜 開了間禪風Lounge Bar\\n柏林來的沃夫岡 拿胡琴配著電吉他\\nHebe+Selina：各種顏色的皮膚 各種顏色的頭髮\\nElla：嘴裡唸的說的開始流行中國話 (Hebe+Selina：中國話)\\nElla：多少年我們苦練英文發音和文法 (Hebe+Selina：Yeah)\\n這幾年換他們捲著舌頭學平上去入的變化\\nHebe+Selina：仄仄平平仄仄平\\nElla：好聰明的中國人 好優美的中國話\\nSelina+Hebe：有個小孩叫小杜\\n上街打醋又買布\\n買了布 打了醋\\n回頭看見鷹抓兔\\n放下布 擱下醋\\n上前去追鷹和兔\\n飛了鷹 跑了兔\\n灑了醋 濕了布\\nSelina+Hebe：嘴說腿 腿說嘴\\n嘴說腿 愛跑腿\\n腿說嘴 愛賣嘴\\n光動嘴 不動腿\\n光動腿 不動嘴\\n不如不長腿和嘴\\n到底是那嘴說腿 還是腿說嘴\\nS.H.E：全世界都在學中國話\\n孔夫子的話 越來越國際化\\n全世界都在講中國話\\n我們說的話 讓世界都認真聽話\\nS.H.E：全世界都在學中國話\\n孔夫子的話 越來越國際化\\n全世界都在講中國話\\n我們說的話 讓世界都認真聽話\\nS.H.E：全世界都在學中國話 (Ella：倫敦瑪莉蓮 買了件旗袍送媽媽) (Hebe：在學中國話)\\n孔夫子的話 (Ella：莫斯科的夫司基 愛上牛肉麵疙瘩)\\n越來越國際化 (Hebe+Selina：各種顏色的皮膚 各種顏色的頭髮 Ella：嘴裡唸的說的開始流行中國話)\\n全世界都在講中國話 (Ella：紐約蘇珊娜 開了間禪風Lounge Bar)\\n我們說的話 (Ella：柏林來的沃夫岡 拿胡琴配著電吉他)\\n讓世界都認真聽話 (Hebe+Selina：各種顏色的皮膚 各種顏色的頭髮)'),\n",
       " ('謝謝你的溫柔',\n",
       "  '作曲：五月天阿信/王美蓮',\n",
       "  '作詞：五月天阿信/施人誠',\n",
       "  '合唱：飛輪海\\n謝謝你如此溫柔\\u3000捧著愛靜靜等侯\\n我的雙手\\u3000其實同樣在顫抖\\n但我能給你什麼\\u3000我只是一個他遺忘的我\\n心被一掃而空\\n我會把你\\u3000種在我心中\\u3000也許某天\\n會終於再次長出一個夢\\n＊不知道不明瞭不想要\\u3000為什麼我的心\\n\\u3000明明是想靠近\\u3000卻孤單到黎明\\n\\u3000不知道不明瞭不想要\\u3000為什麼我的心\\n\\u3000那愛情的綺麗\\u3000總是在孤單裡\\n\\u3000再把我的最好的愛給你\\n謝謝你如此溫柔\\u3000點著笑容的燈火\\n只溫暖而不打擾我的寒冬\\n還沒決定往哪走\\u3000才所以不能答應你陪我\\n怕你會變成我\\n我會把你\\u3000種在我心中\\u3000也許某天\\n會終於再次長出一個夢\\nRepeat ＊,＊\\n謝謝你如此溫柔\\u3000點著笑容的燈火\\n只溫暖而不打擾我的寒冬\\n還沒決定往哪走\\u3000才所以不能答應你陪我\\n怕你會變成我\\nElla:謝謝你如此溫柔\\n捧著愛靜靜等候 我的雙手其實同樣在顫抖\\nHebe:當我能給你什麼\\n我只是一個他遺忘的我 心被一掃而空\\nSelina:我會把你 種在我心中\\n也許某天會終於再次長出一個夢\\n汪東城+吳尊:不知道不明瞭不想要為什麼\\n汪東城:我的心\\n辰亦儒:明明是想靠近 卻孤單到黎明\\n汪東城+吳尊:不知道不明暸我想要為什麼\\n炎亞綸:我的心\\n辰亦儒:那愛情的綺麗 總是在孤單裡\\n飛輪海:再把我的最好的愛給你\\nElla:謝謝你如此溫柔 點著笑容的燈火\\n只溫暖而不打擾我的寒冬\\nSelina:還沒決定往哪走\\n再所以不能答應你陪我 怕你會變成我\\nElla+Selina:我會把你 種在我心中\\nHebe:也許某天會終於再次長出一個夢 WOW~\\n辰亦儒+炎亞綸:不知道不明瞭不想要為什麼\\n炎亞綸:我的心\\n辰亦儒:明明是想靠近 卻孤單到黎明\\n辰亦儒+炎亞綸:不知道不明瞭不想要為什麼\\n吳尊:我的心\\n辰亦儒:那愛情的綺麗 總是在孤單裡\\n飛輪海:再把我的最好的愛給你\\n飛輪海:不知道不明暸不想要為什麼 我的心\\n辰亦儒+吳尊:明明是想靠近 卻孤單到黎明\\n飛輪海:不知道不明暸不想要為什麼 我的心\\n辰亦儒+吳尊:那愛情的綺麗 總是在孤單裡\\n飛輪海:再把我的最好的愛給你\\nS.H.E:謝謝你如此溫柔\\nElla:點著笑容的燈火\\nSelina:只溫暖而不打擾我的寒冬\\nS.H.E:還沒決定往哪走\\n才所以不能答應你陪我 怕你會變成我'),\n",
       " ('聽袁惟仁彈吉他',\n",
       "  '作曲：張簡君偉',\n",
       "  '作詞：張簡君偉',\n",
       "  '1980年九月十四 他從媽媽的肚子跑出來\\n他應該是帶著害羞的表情來到這世界上\\n不然現在的他不會這麼悶這麼悶有夠悶有夠超級的悶騷\\n從小他就住在士林區外雙溪的山腰上\\n那裡的公車其實不只兩輛好嗎\\n只是等公車半小時一小時才來一趟\\n錯過了真ㄉ會讓人覺得很慌張\\n每個朋友都嫌他家太偏僻\\n第一次去 居然還會感到害怕 喔拜託 別鬧ㄌ\\n環境優美空氣新鮮的好地方 好歹袁惟仁跟他老爸也曾經搬到他家樓下\\n想一想 不是因為胖哥 他也不會跑來玩音樂做音樂\\n讓我唱他寫的假Hip-hop\\n其實他的歌都很芭辣 不信可以上他的部落格去聽他唱一下\\n(喂喂 TEST TEST 不好意思由於KEY定的太高\\n我們的副歌部份呢\\n就請當家花旦 Hebe & Selina幫忙唱一下\\n來賓請掌聲鼓勵鼓勵)\\n啦 啦 啦\\n靠著窗聽袁惟仁彈吉他\\n他認真創作的哼哼唱唱\\n愛情傀儡征服和夢醒了\\n都變成了主打\\n靠著窗半夜聽著袁惟仁彈吉他\\n他認真創作的哼哼唱唱\\n一點一滴築音樂的夢想 就要像他一樣\\n今年的他已經26歲 賣過的歌曲其實用兩隻手就數得出來\\n但是他還是愛創作 愛音樂 愛愛愛 就像對岸很火的那首歌 老鼠愛大米一樣愛\\n寫歌其實不容易 賣歌又要靠運氣靠關係 難得的好歌 運氣好被公司保留\\n但保留不一定會用 用又不一定會被打 就算變成主打 版稅可能又會 拖拖拖\\n但是親愛的朋友 你們千萬不能放棄啊 你看他寫了這麼多 這麼多 說真的\\n沒有中的歌曲至少一兩百首 成功的背後總是堆積著高高的寂寞\\n你看我們SHE 努力 學習寫歌多久 如今才能聽到我們的創作\\n音樂這條路 很辛苦 很寂寞 但是想一想 其實我們不貧窮')]"
      ]
     },
     "execution_count": 282,
     "metadata": {},
     "output_type": "execute_result"
    }
   ],
   "source": [
    "list(parse_lyric_table(soup))"
   ]
  },
  {
   "cell_type": "code",
   "execution_count": null,
   "metadata": {
    "collapsed": true
   },
   "outputs": [],
   "source": []
  }
 ],
 "metadata": {
  "kernelspec": {
   "display_name": "Python 3",
   "language": "python",
   "name": "python3"
  },
  "language_info": {
   "codemirror_mode": {
    "name": "ipython",
    "version": 3
   },
   "file_extension": ".py",
   "mimetype": "text/x-python",
   "name": "python",
   "nbconvert_exporter": "python",
   "pygments_lexer": "ipython3",
   "version": "3.4.3"
  }
 },
 "nbformat": 4,
 "nbformat_minor": 0
}
